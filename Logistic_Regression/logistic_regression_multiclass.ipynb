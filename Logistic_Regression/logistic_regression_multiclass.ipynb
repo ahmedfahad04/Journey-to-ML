{
 "cells": [
  {
   "cell_type": "code",
   "execution_count": 39,
   "metadata": {},
   "outputs": [],
   "source": [
    "# import necessary libraries\n",
    "from sklearn import datasets\n",
    "import numpy as np\n",
    "import pandas as np \n",
    "import matplotlib.pyplot as plt"
   ]
  },
  {
   "cell_type": "code",
   "execution_count": 22,
   "metadata": {},
   "outputs": [
    {
     "data": {
      "text/plain": [
       "['DESCR',\n",
       " 'data',\n",
       " 'data_module',\n",
       " 'feature_names',\n",
       " 'filename',\n",
       " 'frame',\n",
       " 'target',\n",
       " 'target_names']"
      ]
     },
     "execution_count": 22,
     "metadata": {},
     "output_type": "execute_result"
    }
   ],
   "source": [
    "# load data from dataset \n",
    "\n",
    "iris_data = datasets.load_iris()\n",
    "\n",
    "iris_data.keys() # to know the feature names \n",
    "dir(iris_data) # to know the all features\n",
    "\n",
    "\n",
    "# iris_data.target # to know the all target values for all input\n",
    "# iris_data.target_names # to the distinct target values"
   ]
  },
  {
   "cell_type": "code",
   "execution_count": 36,
   "metadata": {},
   "outputs": [
    {
     "data": {
      "text/plain": [
       "0.9"
      ]
     },
     "execution_count": 36,
     "metadata": {},
     "output_type": "execute_result"
    }
   ],
   "source": [
    "X = iris_data.data \n",
    "y = iris_data.target\n",
    "\n",
    "# let's split the data \n",
    "from sklearn.model_selection import train_test_split \n",
    "from sklearn.linear_model import LogisticRegression\n",
    "\n",
    "train_X, val_X, train_y, val_y = train_test_split(X, y, train_size=0.2, random_state=0)\n",
    "\n",
    "# load the model \n",
    "model = LogisticRegression()\n",
    "\n",
    "# fit the model \n",
    "model.fit(train_X, train_y)\n",
    "\n",
    "# make predictions \n",
    "predictions = model.predict(val_X)\n",
    "\n",
    "# evaluate the model\n",
    "model.score(val_X, val_y)"
   ]
  },
  {
   "cell_type": "code",
   "execution_count": 38,
   "metadata": {},
   "outputs": [
    {
     "data": {
      "text/plain": [
       "array([[40,  0,  0],\n",
       "       [ 0, 39,  0],\n",
       "       [ 0, 12, 29]], dtype=int64)"
      ]
     },
     "execution_count": 38,
     "metadata": {},
     "output_type": "execute_result"
    }
   ],
   "source": [
    "# Confusion matrix \n",
    "### [Confusiont matrix is a nice way to visualizing how well our model is predicting...] ###\n",
    "\n",
    "from sklearn.metrics import confusion_matrix \n",
    "cm = confusion_matrix(val_y, predictions)\n",
    "cm"
   ]
  },
  {
   "cell_type": "code",
   "execution_count": 40,
   "metadata": {},
   "outputs": [
    {
     "data": {
      "text/plain": [
       "Text(8.222222222222223, 0.5, 'Truth')"
      ]
     },
     "execution_count": 40,
     "metadata": {},
     "output_type": "execute_result"
    },
    {
     "data": {
      "image/png": "[encoded data removed]",
      "text/plain": [
       "<Figure size 300x300 with 2 Axes>"
      ]
     },
     "metadata": {},
     "output_type": "display_data"
    }
   ],
   "source": [
    "# visualize the confusion matrix\n",
    "import seaborn as sn \n",
    "\n",
    "plt.figure(figsize=(3,3))\n",
    "sn.heatmap(cm, annot=True)\n",
    "plt.xlabel('Predictions')\n",
    "plt.ylabel('Truth')"
   ]
  }
 ],
 "metadata": {
  "kernelspec": {
   "display_name": "Python 3",
   "language": "python",
   "name": "python3"
  },
  "language_info": {
   "codemirror_mode": {
    "name": "ipython",
    "version": 3
   },
   "file_extension": ".py",
   "mimetype": "text/x-python",
   "name": "python",
   "nbconvert_exporter": "python",
   "pygments_lexer": "ipython3",
   "version": "3.11.4"
  },
  "orig_nbformat": 4
 },
 "nbformat": 4,
 "nbformat_minor": 2
}
